{
 "cells": [
  {
   "cell_type": "code",
   "execution_count": 1,
   "metadata": {
    "collapsed": true
   },
   "outputs": [],
   "source": [
    "import numpy as np\n",
    "from functools import reduce"
   ]
  },
  {
   "cell_type": "code",
   "execution_count": 2,
   "metadata": {
    "collapsed": true
   },
   "outputs": [],
   "source": [
    "M = 14\n",
    "N = 4\n",
    "init_matrix = np.random.rand(14, 3)\n",
    "STEP = 5"
   ]
  },
  {
   "cell_type": "markdown",
   "metadata": {},
   "source": [
    "The get_matrix_by_chunck function is for demo purpose only, in spark we may use randomSplit[http://spark.apache.org/docs/latest/api/python/pyspark.html?highlight=randomsplit#pyspark.RDD.randomSplit]"
   ]
  },
  {
   "cell_type": "code",
   "execution_count": 3,
   "metadata": {
    "collapsed": true
   },
   "outputs": [],
   "source": [
    "def get_matrix_by_chunck(matrix, step=STEP):\n",
    "    cur = 0\n",
    "    while cur < len(matrix):\n",
    "        yield matrix[cur:cur+step]\n",
    "        cur = cur + step"
   ]
  },
  {
   "cell_type": "code",
   "execution_count": 4,
   "metadata": {
    "collapsed": true
   },
   "outputs": [],
   "source": [
    "chunks = list(get_matrix_by_chunck(init_matrix))"
   ]
  },
  {
   "cell_type": "code",
   "execution_count": 5,
   "metadata": {
    "collapsed": true
   },
   "outputs": [],
   "source": [
    "def cal_r(m1, m2):\n",
    "    return np.linalg.qr(np.concatenate((m1, m2)))[1]"
   ]
  },
  {
   "cell_type": "code",
   "execution_count": 8,
   "metadata": {},
   "outputs": [],
   "source": [
    "distributed_r = reduce(cal_r, chunks)\n",
    "distributed_q = np.dot(init_matrix, np.linalg.inv(distributed_r))"
   ]
  },
  {
   "cell_type": "code",
   "execution_count": 15,
   "metadata": {},
   "outputs": [
    {
     "data": {
      "text/plain": [
       "array([[ 0.22296096,  0.85241905,  0.54146766],\n",
       "       [ 0.19493448,  0.81905438,  0.05346288],\n",
       "       [ 0.09840994,  0.92967912,  0.81495162],\n",
       "       [ 0.62273748,  0.17283602,  0.13415263],\n",
       "       [ 0.58181303,  0.65389895,  0.73626985],\n",
       "       [ 0.84277496,  0.07232126,  0.70901789],\n",
       "       [ 0.21403468,  0.60813289,  0.28726082],\n",
       "       [ 0.35818737,  0.04910492,  0.07483985],\n",
       "       [ 0.83371974,  0.95585925,  0.12733069],\n",
       "       [ 0.14818234,  0.21727893,  0.0665583 ],\n",
       "       [ 0.30061193,  0.02605494,  0.13201303],\n",
       "       [ 0.5955034 ,  0.99732021,  0.18421675],\n",
       "       [ 0.73259838,  0.39606077,  0.35622552],\n",
       "       [ 0.6183112 ,  0.38975453,  0.77516106]])"
      ]
     },
     "execution_count": 15,
     "metadata": {},
     "output_type": "execute_result"
    }
   ],
   "source": [
    "np.dot(distributed_q, distributed_r)"
   ]
  },
  {
   "cell_type": "code",
   "execution_count": 12,
   "metadata": {},
   "outputs": [
    {
     "data": {
      "text/plain": [
       "array([[ 0.22296096,  0.85241905,  0.54146766],\n",
       "       [ 0.19493448,  0.81905438,  0.05346288],\n",
       "       [ 0.09840994,  0.92967912,  0.81495162],\n",
       "       [ 0.62273748,  0.17283602,  0.13415263],\n",
       "       [ 0.58181303,  0.65389895,  0.73626985],\n",
       "       [ 0.84277496,  0.07232126,  0.70901789],\n",
       "       [ 0.21403468,  0.60813289,  0.28726082],\n",
       "       [ 0.35818737,  0.04910492,  0.07483985],\n",
       "       [ 0.83371974,  0.95585925,  0.12733069],\n",
       "       [ 0.14818234,  0.21727893,  0.0665583 ],\n",
       "       [ 0.30061193,  0.02605494,  0.13201303],\n",
       "       [ 0.5955034 ,  0.99732021,  0.18421675],\n",
       "       [ 0.73259838,  0.39606077,  0.35622552],\n",
       "       [ 0.6183112 ,  0.38975453,  0.77516106]])"
      ]
     },
     "execution_count": 12,
     "metadata": {},
     "output_type": "execute_result"
    }
   ],
   "source": [
    "init_matrix"
   ]
  },
  {
   "cell_type": "code",
   "execution_count": null,
   "metadata": {
    "collapsed": true
   },
   "outputs": [],
   "source": []
  }
 ],
 "metadata": {
  "kernelspec": {
   "display_name": "Python 2",
   "language": "python",
   "name": "python2"
  },
  "language_info": {
   "codemirror_mode": {
    "name": "ipython",
    "version": 2
   },
   "file_extension": ".py",
   "mimetype": "text/x-python",
   "name": "python",
   "nbconvert_exporter": "python",
   "pygments_lexer": "ipython2",
   "version": "2.7.13"
  }
 },
 "nbformat": 4,
 "nbformat_minor": 2
}
